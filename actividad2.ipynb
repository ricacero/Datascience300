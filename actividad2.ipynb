{
  "nbformat": 4,
  "nbformat_minor": 0,
  "metadata": {
    "colab": {
      "name": "actividad2.ipynb",
      "provenance": [],
      "authorship_tag": "ABX9TyN+Z12wSZq40nW9bsGAD5zr",
      "include_colab_link": true
    },
    "kernelspec": {
      "name": "python3",
      "display_name": "Python 3"
    },
    "language_info": {
      "name": "python"
    }
  },
  "cells": [
    {
      "cell_type": "markdown",
      "metadata": {
        "id": "view-in-github",
        "colab_type": "text"
      },
      "source": [
        "<a href=\"https://colab.research.google.com/github/ricacero/Datascience300/blob/main/actividad2.ipynb\" target=\"_parent\"><img src=\"https://colab.research.google.com/assets/colab-badge.svg\" alt=\"Open In Colab\"/></a>"
      ]
    },
    {
      "cell_type": "markdown",
      "metadata": {
        "id": "I4j9xr8Rx5gD"
      },
      "source": [
        "## Ejercicio 1 : Listas\n",
        "\n",
        "Tienen la siguiente lista🏀⚾⚽🥤⭐\n",
        "\n",
        "```list1 = [10, 20, [300, 400, [5000, 6000], 500], 30, 40]```\n",
        "\n",
        "Se desea obtener el siguiente output **pero** usando solo el metódo ```append```:\n",
        "\n",
        "```[10, 20, [300, 400, [5000, 6000, 7000], 500], 30, 40]```"
      ]
    },
    {
      "cell_type": "code",
      "metadata": {
        "colab": {
          "base_uri": "https://localhost:8080/"
        },
        "id": "V9BmRGFqJu0e",
        "outputId": "1dde1edc-10e8-4ea9-c8fc-4a4886f05c8b"
      },
      "source": [
        "list1=[10,20,[300,400,[5000,6000],500],30,40]\n",
        "print (list1)\n",
        "print(len(list1))\n",
        "list1[2][2].append(7000)\n",
        "list1\n",
        "\n"
      ],
      "execution_count": 1,
      "outputs": [
        {
          "output_type": "stream",
          "name": "stdout",
          "text": [
            "[10, 20, [300, 400, [5000, 6000], 500], 30, 40]\n",
            "5\n"
          ]
        },
        {
          "output_type": "execute_result",
          "data": {
            "text/plain": [
              "[10, 20, [300, 400, [5000, 6000, 7000], 500], 30, 40]"
            ]
          },
          "metadata": {},
          "execution_count": 1
        }
      ]
    },
    {
      "cell_type": "markdown",
      "metadata": {
        "id": "e3xtcApf0kTI"
      },
      "source": [
        "## Ejercicio 2 : Sets\n",
        "Dados los siguientes conjuntos⛹✅☁⚽✨\n",
        "\n",
        "```s1 = {10, 20, 30, 40, 50}```\n",
        "\n",
        "```s2 = {30, 40, 50, 60, 70}```\n",
        "\n",
        "1. Como es posible obtener el siguiente output con alguno de los metódos vistos para sets\n",
        "\n",
        "```{40, 50, 30}```\n",
        "\n",
        "2. Como es posible obtener el siguiente output con alguno de los metódos vistos para sets\n",
        "\n",
        "```{70, 40, 10, 50, 20, 60, 30}```\n",
        "\n",
        "3. Extraer todos los elementos de s2 que no estan en s1"
      ]
    },
    {
      "cell_type": "code",
      "metadata": {
        "colab": {
          "base_uri": "https://localhost:8080/"
        },
        "id": "uXytNXR0KFX8",
        "outputId": "d0a3d96f-b976-4021-de78-a3c0ee3ac122"
      },
      "source": [
        "s1={10,20,30,40,50}\n",
        "s2={30,40,50,60,70}\n",
        "print(s1.intersection(s2))\n",
        "print(s1.union(s2))\n",
        "print(s2.difference(s1))"
      ],
      "execution_count": 2,
      "outputs": [
        {
          "output_type": "stream",
          "name": "stdout",
          "text": [
            "{40, 50, 30}\n",
            "{70, 40, 10, 50, 20, 60, 30}\n",
            "{60, 70}\n"
          ]
        }
      ]
    },
    {
      "cell_type": "markdown",
      "metadata": {
        "id": "TzUafMrUKRKt"
      },
      "source": [
        "Ejercicio 3: Tuplas\n",
        "Dada la siguiente tupla✈⏰♒⛹\n",
        "\n",
        "tupla=(10, 20, 30, 40, 50)\n",
        "\n",
        "Responder:\n",
        "\n",
        "Ordenar la tupla de mayor a menor\n",
        "Extraer los valores de la tupla en las siguientes variables: a,b,c,d,e\n",
        "Ahora suponga que tiene la siguiente tupla: tupla_d = (11, [22, 33], 44, 55) Recordando el concepto de inmutabilidad de las tuplas, sería posible poder modificar el valor 22 por 222 o en este caso no se puede?. Justifiquen"
      ]
    },
    {
      "cell_type": "code",
      "metadata": {
        "colab": {
          "base_uri": "https://localhost:8080/"
        },
        "id": "2o_XcJa_KV9v",
        "outputId": "b03ac6af-1a22-4794-c0e2-3be536d9653f"
      },
      "source": [
        "tupla=(10,20,30,40,50)\n",
        "tupla=list(tupla)\n",
        "tupla.sort(reverse=True) # Organiza\n",
        "print(tupla)\n",
        "tupla=tuple(tupla)\n",
        "print('------------------')\n",
        "tupla=(10,20,30,40,50)\n",
        "\n",
        "a=tupla[0]\n",
        "b=tupla[1]\n",
        "c=tupla[2]\n",
        "d=tupla[3]\n",
        "e=tupla[4]\n",
        "print(a)\n",
        "print(b)\n",
        "print(c)\n",
        "print(d)\n",
        "print(e)\n",
        "\n",
        "print('------------------')\n",
        "\n",
        "tupla_d=(11,[22,33],44,55)\n",
        "print(tupla_d)\n",
        "tupla_d[1][0]='222'\n",
        "tupla_d"
      ],
      "execution_count": 3,
      "outputs": [
        {
          "output_type": "stream",
          "name": "stdout",
          "text": [
            "[50, 40, 30, 20, 10]\n",
            "------------------\n",
            "10\n",
            "20\n",
            "30\n",
            "40\n",
            "50\n",
            "------------------\n",
            "(11, [22, 33], 44, 55)\n"
          ]
        },
        {
          "output_type": "execute_result",
          "data": {
            "text/plain": [
              "(11, ['222', 33], 44, 55)"
            ]
          },
          "metadata": {},
          "execution_count": 3
        }
      ]
    },
    {
      "cell_type": "markdown",
      "metadata": {
        "id": "UI_skTZCKkof"
      },
      "source": [
        ""
      ]
    },
    {
      "cell_type": "markdown",
      "metadata": {
        "id": "VvCeC9BS_40o"
      },
      "source": [
        "## Ejercicio 4: Diccionarios\n",
        "\n",
        "1. Supongan que tienen el siguiente diccionario similar a lo que se obtiene de una API ([texto del enlace](https://www.freecodecamp.org/news/what-is-an-api-in-english-please-b880a3214a82/)) \n",
        "```\n",
        "dict_david = {\n",
        "    \"clase\": {\n",
        "        \"estudiante\": {\n",
        "            \"nombre\": \"David\",\n",
        "            \"notas\": {\n",
        "                \"fisica\": 4.9,\n",
        "                \"matematicas\": 4.8\n",
        "            }\n",
        "        }\n",
        "    }\n",
        "}\n",
        "```\n",
        "\n",
        "Como se puede obtener el valor respectivo para la llave primaria ```matematicas```❗♥♨ℹ\n",
        "\n",
        "2. Con base en el siguiente diccionario, renombrar la llave primaria ciudad por ubicacion 🥱⏬⚡✉\n",
        "\n",
        "```dic_prueba = {\n",
        "  \"nombre\": \"Juan\",\n",
        "  \"edad\":25,\n",
        "  \"salario\": 8000000,\n",
        "  \"ciudad\": \"Santiago\"\n",
        "}\n",
        "```\n",
        "\n",
        "3. Obtener la llave primaria del valor minimo para el siguiente diccionario 😶🧵⚔♦\n",
        "\n",
        "```\n",
        "dicc = {\n",
        "  'Bayesiana': 4.5,\n",
        "  'Series Tiempo': 4.6,\n",
        "  'Calculo Actuarial': 4.2\n",
        "}\n",
        "```\n",
        "\n",
        "4. Con base en el siguiente diccionario✈⚔😀😼\n",
        "```\n",
        "dict_a = {\n",
        "    'e1': {'nombre': 'David', 'salario': 12000000},\n",
        "    'e2': {'nombre': 'Juan', 'salario': 7590000},\n",
        "    'e3': {'nombre': 'Amir', 'salario': 6787000}\n",
        "}\n",
        "```\n",
        "Reemplazar el valor de 7590000 de Juan por 8000000."
      ]
    },
    {
      "cell_type": "code",
      "metadata": {
        "colab": {
          "base_uri": "https://localhost:8080/"
        },
        "id": "QD4Fxv6DKnzp",
        "outputId": "3b103210-4a61-4b20-f089-23ea2bbb4778"
      },
      "source": [
        "dict_david = {\n",
        " \"clase\": {\n",
        "     \"estudiante\": {\n",
        "         \"nombre\": \"David\",\n",
        "         \"notas\": {\n",
        "             \"fisica\": 4.9,\n",
        "             \"matematicas\": 4.8\n",
        "         }\n",
        "     }\n",
        " }\n",
        "}\n",
        "print(dict_david)\n",
        "\n",
        "\n",
        "\n",
        "print(dict_david['clase']['estudiante']['notas']['matematicas'])\n",
        "\n",
        "print('-----------------------')\n",
        "\n",
        "\n",
        "dicc = { \"nombre\": \"Juan\",\n",
        "  \"edad\":25,\n",
        "  \"salario\": 8000000,\n",
        "  \"ciudad\": \"Santiago\"\n",
        "}\n",
        "print(dicc)\n",
        "    \n",
        "dicc['ubicacion'] = dicc.pop('ciudad')\n",
        "print(dicc)\n",
        "\n",
        "print('-----------------------')\n",
        "\n",
        "\n",
        "dicc1 = {\n",
        "  'Bayesiana': 4.5,\n",
        "  'Series Tiempo': 4.6,\n",
        "  'Calculo Actuarial': 4.2\n",
        "}\n",
        "\n",
        "print(dicc1)\n",
        "\n",
        "valor=dicc1.keys()\n",
        "valor2=dicc1.values()\n",
        "valor=list(valor)\n",
        "print(valor)\n",
        "valor2=list(valor2)\n",
        "\n",
        "valor2.sort(reverse=False)\n",
        "print(valor2)\n",
        "valor3=valor+valor2\n",
        "print(valor3)\n",
        "\n",
        "\n",
        "print('-----------------------')\n",
        "\n",
        "dict_a = {\n",
        " 'e1': {'nombre': 'David', 'salario': 12000000},\n",
        " 'e2': {'nombre': 'Juan', 'salario': 7590000},\n",
        " 'e3': {'nombre': 'Amir', 'salario': 6787000}\n",
        "}\n",
        "\n",
        "print(dict_a)\n",
        "\n",
        "dict_a['e2']['salario']=800000\n",
        "print(dict_a)"
      ],
      "execution_count": 4,
      "outputs": [
        {
          "output_type": "stream",
          "name": "stdout",
          "text": [
            "{'clase': {'estudiante': {'nombre': 'David', 'notas': {'fisica': 4.9, 'matematicas': 4.8}}}}\n",
            "4.8\n",
            "-----------------------\n",
            "{'nombre': 'Juan', 'edad': 25, 'salario': 8000000, 'ciudad': 'Santiago'}\n",
            "{'nombre': 'Juan', 'edad': 25, 'salario': 8000000, 'ubicacion': 'Santiago'}\n",
            "-----------------------\n",
            "{'Bayesiana': 4.5, 'Series Tiempo': 4.6, 'Calculo Actuarial': 4.2}\n",
            "['Bayesiana', 'Series Tiempo', 'Calculo Actuarial']\n",
            "[4.2, 4.5, 4.6]\n",
            "['Bayesiana', 'Series Tiempo', 'Calculo Actuarial', 4.2, 4.5, 4.6]\n",
            "-----------------------\n",
            "{'e1': {'nombre': 'David', 'salario': 12000000}, 'e2': {'nombre': 'Juan', 'salario': 7590000}, 'e3': {'nombre': 'Amir', 'salario': 6787000}}\n",
            "{'e1': {'nombre': 'David', 'salario': 12000000}, 'e2': {'nombre': 'Juan', 'salario': 800000}, 'e3': {'nombre': 'Amir', 'salario': 6787000}}\n"
          ]
        }
      ]
    }
  ]
}