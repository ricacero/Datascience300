{
  "nbformat": 4,
  "nbformat_minor": 0,
  "metadata": {
    "colab": {
      "name": "Ejercicios_3_sin_resolver.ipynb",
      "provenance": [],
      "collapsed_sections": [],
      "include_colab_link": true
    },
    "kernelspec": {
      "name": "python3",
      "display_name": "Python 3"
    },
    "language_info": {
      "name": "python"
    }
  },
  "cells": [
    {
      "cell_type": "markdown",
      "metadata": {
        "id": "view-in-github",
        "colab_type": "text"
      },
      "source": [
        "<a href=\"https://colab.research.google.com/github/ricacero/Datascience300/blob/main/Actividad%203.ipynb\" target=\"_parent\"><img src=\"https://colab.research.google.com/assets/colab-badge.svg\" alt=\"Open In Colab\"/></a>"
      ]
    },
    {
      "cell_type": "markdown",
      "metadata": {
        "id": "_XBLq0MTOhWu"
      },
      "source": [
        "# Ejercicio 1\n",
        "\n",
        "Escribir un programa para mostrar sólo los números de una lista (dada) que cumplan las condiciones siguientes ✈⏰♥⌛⛸🏀\n",
        "\n",
        "```lista = [14, 75, 150, 180, 145, 525, 50, 10, 56,55]```\n",
        "\n",
        "1. El número debe ser divisible por cinco 🙏\n",
        "2. Si el número es mayor que 150, sáltelo y pase al siguiente número 🫂\n",
        "3. Si el número es mayor que 500, paren el bucle 🔊"
      ]
    },
    {
      "cell_type": "code",
      "metadata": {
        "colab": {
          "base_uri": "https://localhost:8080/"
        },
        "id": "Lugt3C11MLtM",
        "outputId": "597b5cc2-c47b-4f65-b134-935d7d9afa3f"
      },
      "source": [
        "lista = [14, 75, 150, 180, 145, 525, 50, 10, 56,55]\n",
        "for x in lista:\n",
        "  if  x>500:\n",
        "    break\n",
        "  elif x>150:\n",
        "   continue\n",
        "  elif x %5==0:\n",
        "   print(x)\n",
        "  \n",
        "  "
      ],
      "execution_count": null,
      "outputs": [
        {
          "output_type": "stream",
          "name": "stdout",
          "text": [
            "75\n",
            "150\n",
            "145\n"
          ]
        }
      ]
    },
    {
      "cell_type": "markdown",
      "metadata": {
        "id": "Vy7igOV4P05F"
      },
      "source": [
        "# Ejercicio 2\n",
        "\n",
        "Escriba un programa para contar el número **entero** total de dígitos en un número usando un bucle while. ⚪❌💯👍⚡\n",
        "\n",
        "Por ejemplo, el número es 12345, por lo que la salida debe ser 5. 📷🥿🥲😕🔮"
      ]
    },
    {
      "cell_type": "code",
      "metadata": {
        "id": "pG6qSEScciVg",
        "colab": {
          "base_uri": "https://localhost:8080/"
        },
        "outputId": "9bd9246d-8f8e-4286-e779-9aecfe06ffa6"
      },
      "source": [
        "Numero = int(input(\"ingrese un numero: \"))\n",
        "cont = 0\n",
        "while (Numero>0):\n",
        "  Numero=Numero//10\n",
        "  cont=cont+1\n",
        "print(\"El numero ingresado tiene %s digitos\" % (cont))\n"
      ],
      "execution_count": null,
      "outputs": [
        {
          "output_type": "stream",
          "name": "stdout",
          "text": [
            "ingrese un numero: 12345\n",
            "El numero ingresado tiene 5 digitos\n"
          ]
        }
      ]
    },
    {
      "cell_type": "markdown",
      "metadata": {
        "id": "UQ1RHQk0Qam7"
      },
      "source": [
        "# Ejercicio 3\n",
        "\n",
        "Escriba un programa para usar en bucle para imprimir el siguiente patrón de números inverso. **Ayuda** *Pueden usar un loop anidado* ☣🙂🚒⛴🗃⛲\n",
        "\n",
        "```\n",
        "6 5 4 3 2 1\n",
        "5 4 3 2 1 \n",
        "4 3 2 1 \n",
        "3 2 1\n",
        "2 1 \n",
        "1\n",
        "```"
      ]
    },
    {
      "cell_type": "code",
      "metadata": {
        "id": "zOKon30RQbtb",
        "colab": {
          "base_uri": "https://localhost:8080/"
        },
        "outputId": "608ac12b-7be1-4217-cef2-418d952f3f0f"
      },
      "source": [
        "for n in range(6,0,-1):\n",
        "  for x in range(n,0,-1):\n",
        "   print(x, end=' ')\n",
        "  print() \n",
        "\n",
        "\n",
        " \n",
        " \n"
      ],
      "execution_count": null,
      "outputs": [
        {
          "output_type": "stream",
          "name": "stdout",
          "text": [
            "6 5 4 3 2 1 \n",
            "5 4 3 2 1 \n",
            "4 3 2 1 \n",
            "3 2 1 \n",
            "2 1 \n",
            "1 \n"
          ]
        }
      ]
    },
    {
      "cell_type": "code",
      "metadata": {
        "id": "7PVIa0p5GMbh"
      },
      "source": [
        ""
      ],
      "execution_count": null,
      "outputs": []
    },
    {
      "cell_type": "markdown",
      "metadata": {
        "id": "IQhoIRbzSOTv"
      },
      "source": [
        "# Ejercicio 4\n",
        "\n",
        "Escriba un programa para calcular la suma de la siguiente serie hasta el n-ésimo término. 🧉👒😵🧭🈹🥸\n",
        "\n",
        "$$3+33+333+3333+33333+.....$$\n",
        "\n",
        "Por ejemplo, si n = 5 la serie se convertirá en 3 + 33 + 333 + 3333 + 33333 = 37035 🥸💵🐬⚓♊"
      ]
    },
    {
      "cell_type": "code",
      "metadata": {
        "id": "OwEnwVzvco6N",
        "colab": {
          "base_uri": "https://localhost:8080/"
        },
        "outputId": "656830f3-dc4c-4b40-ad90-13da7270159e"
      },
      "source": [
        "n=int(input('ingrese el valor de n:'))\n",
        "inicio=3\n",
        "suma=0\n",
        "for i in range(0,n):\n",
        "  print(inicio,end=\"+\")\n",
        "  suma+=inicio\n",
        "  inicio=inicio*10+3\n",
        "print(\"la suma de la serie es\", suma)"
      ],
      "execution_count": null,
      "outputs": [
        {
          "output_type": "stream",
          "name": "stdout",
          "text": [
            "ingrese el valor de n:5\n",
            "3+33+333+3333+33333+la suma de la serie es 37035\n"
          ]
        }
      ]
    },
    {
      "cell_type": "markdown",
      "metadata": {
        "id": "H1B88LgXUJqZ"
      },
      "source": [
        "# Ejercicio 5\n",
        "\n",
        "Crear una función que se llama ```funcion_xy``` que tome como argumento una lista de **numeros enteros** (dada, ver mas abajo) y adicionalmente permita la posibilidad de incorporar parametros adicionales ```*args```y ```**kargs```. \n",
        "\n",
        "```lista=[2,1,3,5,4,7,9,8,6,10]```\n",
        "\n",
        "Se requiere que la funcion tenga las siguientes caracteristicas\n",
        "\n",
        "```*args```\n",
        "\n",
        "1. Ordene la lista de menor a mayor y la devuelva como salida.\n",
        "2. Extraiga y muestre solo los numeros pares\n",
        "3. Calcular la media recortada al 10% de la lista. Para eso pueden utilizar importar la siguiente librería:     \n",
        "```from scipy import stats```\n",
        "Y utilizar la función ```stats.trim_mean(lista, 0.1, axis=0)```\n",
        "\n",
        "```**kargs```\n",
        "\n",
        "1. ```reverse == True``` => Debera invertir la lista \n",
        "2. ```odd == True``` => retorna una lista con los nombres 'pares' e 'impares' para cada posicion\n",
        "3. ```filter == True``` => extraer los valores mayores a 4 y mostrarlos\n",
        "\n",
        "\n",
        "**Nota :** En todos los casos n olviden la importancia del return y traten de aplicar todos los conceptos que hemos visto para resolver de la manera más eficiente posible."
      ]
    },
    {
      "cell_type": "code",
      "metadata": {
        "id": "YzfdeZqNXGBr"
      },
      "source": [
        "import numpy as np \n",
        "from scipy import stats"
      ],
      "execution_count": 60,
      "outputs": []
    },
    {
      "cell_type": "code",
      "metadata": {
        "id": "vRwZTH6kcrie"
      },
      "source": [
        "def funcion_xy(l,*args, **kargs):\n",
        "    \n",
        "    if args:\n",
        "        print('hay argumentos extra')\n",
        "        print(args)\n",
        "        if args[0] == 1:\n",
        "            '''\n",
        "                1 = ordenar la lista\n",
        "            '''\n",
        "            print('ordenando lista')\n",
        "            x=np.sort(l)\n",
        "            return x\n",
        "\n",
        "            \n",
        "        elif args[0] == 2:\n",
        "            '''\n",
        "                2 = Par o impar\n",
        "            '''\n",
        "            print('sacando numeros pares')\n",
        "            result = []\n",
        "            for i in l:\n",
        "                if i % 2 == 0:\n",
        "                    result.append(i)\n",
        "            \n",
        "            return result\n",
        "        elif args[0] == 3:\n",
        "            '''\n",
        "                3 = Media recortada al 10%\n",
        "            '''\n",
        "            print('La media recortada al 10% es')\n",
        "            m=stats.trim_mean(l, 0.1, axis=0)\n",
        "            return m\n",
        "    if kargs.keys():\n",
        "        print('hay argumentos complejos')\n",
        "        # print(kargs.keys())\n",
        "        if 'reverse' in kargs.keys():            \n",
        "            if kargs['reverse'] == True:\n",
        "                '''\n",
        "                    reverse\n",
        "                '''\n",
        "                print('Lista inversa')\n",
        "                l.reverse()\n",
        "                return l\n",
        "        \n",
        "        elif 'odd' in kargs.keys():\n",
        "            \n",
        "            if kargs['odd'] == True:\n",
        "                '''\n",
        "                    Par o impar\n",
        "                '''\n",
        "                result = []\n",
        "                for i in l:\n",
        "                    if i % 2 == 0:\n",
        "                        result.append('par')\n",
        "                    else:\n",
        "                        result.append('impar')\n",
        "                return result\n",
        "            \n",
        "        if 'filter' in kargs.keys():\n",
        "            \n",
        "            if kargs['filter'] == True:\n",
        "                '''\n",
        "                    extraer los valores mayores a 4 y mostrarlos\n",
        "                '''\n",
        "                print('mostrando valores mayores a 4')\n",
        "            result = []\n",
        "            for i in l:\n",
        "                if i >4:\n",
        "                    result.append(i)\n",
        "            \n",
        "            return result"
      ],
      "execution_count": 86,
      "outputs": []
    },
    {
      "cell_type": "code",
      "metadata": {
        "colab": {
          "base_uri": "https://localhost:8080/"
        },
        "id": "atUcklYwTi7I",
        "outputId": "2ad8612b-e5c2-48dc-f290-8831601dfff0"
      },
      "source": [
        "lista=[2,1,3,5,4,7,9,8,6,10]\n",
        "funcion_xy(lista,1)"
      ],
      "execution_count": 88,
      "outputs": [
        {
          "output_type": "stream",
          "name": "stdout",
          "text": [
            "hay argumentos extra\n",
            "(1,)\n",
            "ordenando lista\n"
          ]
        },
        {
          "output_type": "execute_result",
          "data": {
            "text/plain": [
              "array([ 1,  2,  3,  4,  5,  6,  7,  8,  9, 10])"
            ]
          },
          "metadata": {},
          "execution_count": 88
        }
      ]
    },
    {
      "cell_type": "code",
      "metadata": {
        "colab": {
          "base_uri": "https://localhost:8080/"
        },
        "id": "9W0Xl98fWL99",
        "outputId": "9323a323-eb17-4ce2-8ad7-1d1bced50a87"
      },
      "source": [
        "lista=[2,1,3,5,4,7,9,8,6,10]\n",
        "funcion_xy(lista,2)"
      ],
      "execution_count": 89,
      "outputs": [
        {
          "output_type": "stream",
          "name": "stdout",
          "text": [
            "hay argumentos extra\n",
            "(2,)\n",
            "sacando numeros pares\n"
          ]
        },
        {
          "output_type": "execute_result",
          "data": {
            "text/plain": [
              "[2, 4, 8, 6, 10]"
            ]
          },
          "metadata": {},
          "execution_count": 89
        }
      ]
    },
    {
      "cell_type": "code",
      "metadata": {
        "colab": {
          "base_uri": "https://localhost:8080/"
        },
        "id": "bW2_-9xdWQ9d",
        "outputId": "69552f84-61ac-4459-96c9-c95520acaa56"
      },
      "source": [
        "lista=[2,1,3,5,4,7,9,8,6,10]\n",
        "funcion_xy(lista,3)"
      ],
      "execution_count": 90,
      "outputs": [
        {
          "output_type": "stream",
          "name": "stdout",
          "text": [
            "hay argumentos extra\n",
            "(3,)\n",
            "La media recortada al 10% es\n"
          ]
        },
        {
          "output_type": "execute_result",
          "data": {
            "text/plain": [
              "5.5"
            ]
          },
          "metadata": {},
          "execution_count": 90
        }
      ]
    },
    {
      "cell_type": "code",
      "metadata": {
        "colab": {
          "base_uri": "https://localhost:8080/"
        },
        "id": "jhszU4qOWVU0",
        "outputId": "80beea7d-faa6-41d3-ed72-05da5c6e41af"
      },
      "source": [
        "lista=[2,1,3,5,4,7,9,8,6,10]\n",
        "funcion_xy(lista,reverse=True)"
      ],
      "execution_count": 91,
      "outputs": [
        {
          "output_type": "stream",
          "name": "stdout",
          "text": [
            "hay argumentos complejos\n",
            "Lista inversa\n"
          ]
        },
        {
          "output_type": "execute_result",
          "data": {
            "text/plain": [
              "[10, 6, 8, 9, 7, 4, 5, 3, 1, 2]"
            ]
          },
          "metadata": {},
          "execution_count": 91
        }
      ]
    },
    {
      "cell_type": "code",
      "metadata": {
        "colab": {
          "base_uri": "https://localhost:8080/"
        },
        "id": "TdWq0EYVWep-",
        "outputId": "147d03e0-7541-4d8e-a75e-8972f54a863d"
      },
      "source": [
        "lista=[2,1,3,5,4,7,9,8,6,10]\n",
        "funcion_xy(lista,odd=True)"
      ],
      "execution_count": 92,
      "outputs": [
        {
          "output_type": "stream",
          "name": "stdout",
          "text": [
            "hay argumentos complejos\n"
          ]
        },
        {
          "output_type": "execute_result",
          "data": {
            "text/plain": [
              "['par',\n",
              " 'impar',\n",
              " 'impar',\n",
              " 'impar',\n",
              " 'par',\n",
              " 'impar',\n",
              " 'impar',\n",
              " 'par',\n",
              " 'par',\n",
              " 'par']"
            ]
          },
          "metadata": {},
          "execution_count": 92
        }
      ]
    },
    {
      "cell_type": "code",
      "metadata": {
        "colab": {
          "base_uri": "https://localhost:8080/"
        },
        "id": "R9-vDUKdWkJV",
        "outputId": "11c4d8be-0d26-4b37-8749-d2239ed6432f"
      },
      "source": [
        "lista=[2,1,3,5,4,7,9,8,6,10]\n",
        "funcion_xy(lista,filter=True)"
      ],
      "execution_count": 93,
      "outputs": [
        {
          "output_type": "stream",
          "name": "stdout",
          "text": [
            "hay argumentos complejos\n",
            "mostrando valores mayores a 4\n"
          ]
        },
        {
          "output_type": "execute_result",
          "data": {
            "text/plain": [
              "[5, 7, 9, 8, 6, 10]"
            ]
          },
          "metadata": {},
          "execution_count": 93
        }
      ]
    }
  ]
}