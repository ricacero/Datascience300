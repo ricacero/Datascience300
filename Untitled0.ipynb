{
  "nbformat": 4,
  "nbformat_minor": 0,
  "metadata": {
    "colab": {
      "name": "Untitled0.ipynb",
      "provenance": [],
      "authorship_tag": "ABX9TyPCYgcFyTWIGdnGiVQ/qolA",
      "include_colab_link": true
    },
    "kernelspec": {
      "name": "python3",
      "display_name": "Python 3"
    },
    "language_info": {
      "name": "python"
    }
  },
  "cells": [
    {
      "cell_type": "markdown",
      "metadata": {
        "id": "view-in-github",
        "colab_type": "text"
      },
      "source": [
        "<a href=\"https://colab.research.google.com/github/ricacero/Datascience300/blob/main/Untitled0.ipynb\" target=\"_parent\"><img src=\"https://colab.research.google.com/assets/colab-badge.svg\" alt=\"Open In Colab\"/></a>"
      ]
    },
    {
      "cell_type": "code",
      "metadata": {
        "id": "8H8urPAYoVuR"
      },
      "source": [
        "\n"
      ],
      "execution_count": null,
      "outputs": []
    },
    {
      "cell_type": "code",
      "metadata": {
        "colab": {
          "base_uri": "https://localhost:8080/"
        },
        "id": "-9XSMEHbBVZg",
        "outputId": "85b2ae34-c57e-429a-abab-6da7c71b1f09"
      },
      "source": [
        "mask_0={}\n",
        "mask_0['tall']='l'\n",
        "mask_0['color']='negra'\n",
        "mask_0['pais']='china'\n",
        "mask_0['marca']='yei'\n",
        "mask_0['precio']=20\n",
        "\n",
        "mask_1={}\n",
        "mask_1['tall']='m'\n",
        "mask_1['color']='blanco'\n",
        "mask_1['pais']='china'\n",
        "mask_1['marca']='jutd'\n",
        "mask_1['precio']=40\n",
        "\n",
        "mask_2={}\n",
        "mask_2['tall']='s'\n",
        "mask_2['color']='gris'\n",
        "mask_2['pais']='china'\n",
        "mask_2['marca']='gts'\n",
        "mask_2['precio']=25\n",
        "\n",
        "compra0=mask_0['precio']\n",
        "compra1=mask_1['precio']\n",
        "compra2=mask_2['precio']\n",
        "compratotal=compra0+compra1+compra2\n",
        "\n",
        "porc_0=(compra0/compratotal)*100\n",
        "porc_1=(compra1/compratotal)*100\n",
        "porc_2=(compra2/compratotal)*100\n",
        "\n",
        "porc2productos=porc_0+porc_2\n",
        "porc3productos=porc_0+porc_1+porc_2\n",
        "\n",
        "print(\"la compra total fue de :\",compratotal)\n",
        "\n",
        "print(\"porcentaje de mask0 :\",porc_0)\n",
        "print(\"porcentaje de mask1 :\",porc_1)\n",
        "print(\"porcentaje de mask2 :\",porc_2)\n",
        "\n",
        "\n",
        "print(\"porcentaje de la mask0 y la mask 2 es :\",porc2productos)\n",
        "print(\"porcentaje de todos los productos es :\",porc3productos)\n",
        "\n",
        "\n",
        "\n",
        "\n",
        "\n",
        "\n",
        "\n",
        "\n",
        "\n"
      ],
      "execution_count": 11,
      "outputs": [
        {
          "output_type": "stream",
          "name": "stdout",
          "text": [
            "la compra total fue de : 85\n",
            "porcentaje de mask0 : 23.52941176470588\n",
            "porcentaje de mask1 : 47.05882352941176\n",
            "porcentaje de mask2 : 29.411764705882355\n",
            "porcentaje de la mask0 y la mask 2 es : 52.94117647058823\n",
            "porcentaje de todos los productos es : 100.0\n"
          ]
        }
      ]
    },
    {
      "cell_type": "markdown",
      "metadata": {
        "id": "VH_3FmlEopI6"
      },
      "source": [
        "\n"
      ]
    }
  ]
}