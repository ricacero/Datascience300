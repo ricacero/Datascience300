{
  "nbformat": 4,
  "nbformat_minor": 0,
  "metadata": {
    "colab": {
      "name": "Untitled0.ipynb",
      "provenance": [],
      "authorship_tag": "ABX9TyM/7Sf+oym7xElm+R0Ovkd1",
      "include_colab_link": true
    },
    "kernelspec": {
      "name": "python3",
      "display_name": "Python 3"
    },
    "language_info": {
      "name": "python"
    }
  },
  "cells": [
    {
      "cell_type": "markdown",
      "metadata": {
        "id": "view-in-github",
        "colab_type": "text"
      },
      "source": [
        "<a href=\"https://colab.research.google.com/github/ricacero/Datascience300/blob/main/Untitled0.ipynb\" target=\"_parent\"><img src=\"https://colab.research.google.com/assets/colab-badge.svg\" alt=\"Open In Colab\"/></a>"
      ]
    },
    {
      "cell_type": "code",
      "metadata": {
        "id": "8H8urPAYoVuR"
      },
      "source": [
        "\n"
      ],
      "execution_count": null,
      "outputs": []
    },
    {
      "cell_type": "markdown",
      "metadata": {
        "id": "mk_MDYrRqju-"
      },
      "source": [
        "**Introduccion**\n",
        "\n",
        "\n",
        "---\n",
        "Para Manejar un codigo en python, vamos a s eguir las siguientes recomendaciones:\n",
        "1. Usar siempre minusculas\n",
        "2. se le puede añadir numeros\n",
        "\n",
        "en Python hay varios tipos de datos compuestos y estan disponibles por defecto en los interpretes:    \n",
        "\n"
      ]
    },
    {
      "cell_type": "code",
      "metadata": {
        "colab": {
          "base_uri": "https://localhost:8080/"
        },
        "id": "1v3HnkfowRH1",
        "outputId": "4e0cc573-2e11-4d3a-a82b-b052da617ad6"
      },
      "source": [
        "f=56\n",
        "b=34\n",
        "\n",
        "print(f+b)"
      ],
      "execution_count": 1,
      "outputs": [
        {
          "output_type": "stream",
          "name": "stdout",
          "text": [
            "90\n"
          ]
        }
      ]
    },
    {
      "cell_type": "code",
      "metadata": {
        "colab": {
          "base_uri": "https://localhost:8080/"
        },
        "id": "-9XSMEHbBVZg",
        "outputId": "5a79fa3b-2ef2-489a-8ad2-2498117ef876"
      },
      "source": [
        "mask_0={}\n",
        "mask_0['tall']='l'\n",
        "mask_0['color']='negra'\n",
        "mask_0['pais']='china'\n",
        "mask_0['marca']='yei'\n",
        "mask_0['precio']=20\n",
        "\n",
        "mask_1={}\n",
        "mask_1['tall']='m'\n",
        "mask_1['color']='blanco'\n",
        "mask_1['pais']='china'\n",
        "mask_1['marca']='jutd'\n",
        "mask_1['precio']=40\n",
        "\n",
        "mask_2={}\n",
        "mask_2['tall']='s'\n",
        "mask_2['color']='gris'\n",
        "mask_2['pais']='china'\n",
        "mask_2['marca']='gts'\n",
        "mask_2['precio']=25\n",
        "\n",
        "compra0=mask_0['precio']\n",
        "compra1=mask_1['precio']\n",
        "compra2=mask_2['precio']\n",
        "compratotal=compra0+compra1+compra2\n",
        "\n",
        "\n",
        "\n",
        "\n",
        "print(\"la compra total fue de :\",compratotal)\n",
        "\n",
        "\n",
        "\n",
        "\n",
        "\n",
        "\n",
        "\n"
      ],
      "execution_count": 3,
      "outputs": [
        {
          "output_type": "stream",
          "name": "stdout",
          "text": [
            "la compra total fue de : 85\n"
          ]
        }
      ]
    },
    {
      "cell_type": "markdown",
      "metadata": {
        "id": "VH_3FmlEopI6"
      },
      "source": [
        "\n"
      ]
    }
  ]
}