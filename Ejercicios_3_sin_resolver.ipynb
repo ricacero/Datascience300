{
  "nbformat": 4,
  "nbformat_minor": 0,
  "metadata": {
    "colab": {
      "name": "Ejercicios_3_sin_resolver.ipynb",
      "provenance": [],
      "collapsed_sections": [],
      "include_colab_link": true
    },
    "kernelspec": {
      "name": "python3",
      "display_name": "Python 3"
    },
    "language_info": {
      "name": "python"
    }
  },
  "cells": [
    {
      "cell_type": "markdown",
      "metadata": {
        "id": "view-in-github",
        "colab_type": "text"
      },
      "source": [
        "<a href=\"https://colab.research.google.com/github/ricacero/Datascience300/blob/main/Ejercicios_3_sin_resolver.ipynb\" target=\"_parent\"><img src=\"https://colab.research.google.com/assets/colab-badge.svg\" alt=\"Open In Colab\"/></a>"
      ]
    },
    {
      "cell_type": "markdown",
      "metadata": {
        "id": "_XBLq0MTOhWu"
      },
      "source": [
        "# Ejercicio 1\n",
        "\n",
        "Escribir un programa para mostrar sólo los números de una lista (dada) que cumplan las condiciones siguientes ✈⏰♥⌛⛸🏀\n",
        "\n",
        "```lista = [14, 75, 150, 180, 145, 525, 50, 10, 56,55]```\n",
        "\n",
        "1. El número debe ser divisible por cinco 🙏\n",
        "2. Si el número es mayor que 150, sáltelo y pase al siguiente número 🫂\n",
        "3. Si el número es mayor que 500, paren el bucle 🔊"
      ]
    },
    {
      "cell_type": "code",
      "metadata": {
        "id": "KDaEy559chco",
        "colab": {
          "base_uri": "https://localhost:8080/"
        },
        "outputId": "171fcc41-3f7c-431d-d4c8-eaade1b68cfa"
      },
      "source": [
        "lista = [14, 75, 150, 180, 145, 525, 50, 10, 56,55]\n",
        "print(lista)\n",
        "for x in lista:\n",
        "   if x%5==0:\n",
        "     print(x)\n",
        "  \n",
        "\n",
        "\n",
        "  \n"
      ],
      "execution_count": 30,
      "outputs": [
        {
          "output_type": "stream",
          "name": "stdout",
          "text": [
            "[14, 75, 150, 180, 145, 525, 50, 10, 56, 55]\n",
            "75\n",
            "150\n",
            "180\n",
            "145\n",
            "525\n",
            "50\n",
            "10\n",
            "55\n"
          ]
        }
      ]
    },
    {
      "cell_type": "code",
      "metadata": {
        "colab": {
          "base_uri": "https://localhost:8080/"
        },
        "id": "Lugt3C11MLtM",
        "outputId": "eb8be3d9-f567-4dfe-bc1e-a9ff5a1a9ab6"
      },
      "source": [
        "lista = [14, 75, 150, 180, 145, 525, 50, 10, 56,55]\n",
        "print(lista)\n",
        "for x in lista:\n",
        "  if  x > 150:\n",
        "   continue\n",
        "  print(x)\n",
        "  \n",
        "  "
      ],
      "execution_count": 27,
      "outputs": [
        {
          "output_type": "stream",
          "name": "stdout",
          "text": [
            "[14, 75, 150, 180, 145, 525, 50, 10, 56, 55]\n",
            "14\n",
            "75\n",
            "150\n",
            "145\n",
            "50\n",
            "10\n",
            "56\n",
            "55\n"
          ]
        }
      ]
    },
    {
      "cell_type": "code",
      "metadata": {
        "colab": {
          "base_uri": "https://localhost:8080/"
        },
        "id": "8BAM5HUHwqII",
        "outputId": "db37dc9c-6278-4d79-e26b-27a6655e572b"
      },
      "source": [
        "lista = [14, 75, 150, 180, 145, 525, 50, 10, 56,55]\n",
        "print(lista)\n",
        "for x in lista:\n",
        "  if  x > 500:\n",
        "   break\n",
        "  print(x)"
      ],
      "execution_count": 28,
      "outputs": [
        {
          "output_type": "stream",
          "name": "stdout",
          "text": [
            "[14, 75, 150, 180, 145, 525, 50, 10, 56, 55]\n",
            "14\n",
            "75\n",
            "150\n",
            "180\n",
            "145\n"
          ]
        }
      ]
    },
    {
      "cell_type": "markdown",
      "metadata": {
        "id": "Vy7igOV4P05F"
      },
      "source": [
        "# Ejercicio 2\n",
        "\n",
        "Escriba un programa para contar el número **entero** total de dígitos en un número usando un bucle while. ⚪❌💯👍⚡\n",
        "\n",
        "Por ejemplo, el número es 12345, por lo que la salida debe ser 5. 📷🥿🥲😕🔮"
      ]
    },
    {
      "cell_type": "code",
      "metadata": {
        "id": "pG6qSEScciVg",
        "colab": {
          "base_uri": "https://localhost:8080/"
        },
        "outputId": "9bd9246d-8f8e-4286-e779-9aecfe06ffa6"
      },
      "source": [
        "Numero = int(input(\"ingrese un numero: \"))\n",
        "cont = 0\n",
        "while (Numero>0):\n",
        "  Numero=Numero//10\n",
        "  cont=cont+1\n",
        "print(\"El numero ingresado tiene %s digitos\" % (cont))\n"
      ],
      "execution_count": 77,
      "outputs": [
        {
          "output_type": "stream",
          "name": "stdout",
          "text": [
            "ingrese un numero: 12345\n",
            "El numero ingresado tiene 5 digitos\n"
          ]
        }
      ]
    },
    {
      "cell_type": "markdown",
      "metadata": {
        "id": "UQ1RHQk0Qam7"
      },
      "source": [
        "# Ejercicio 3\n",
        "\n",
        "Escriba un programa para usar en bucle para imprimir el siguiente patrón de números inverso. **Ayuda** *Pueden usar un loop anidado* ☣🙂🚒⛴🗃⛲\n",
        "\n",
        "```\n",
        "6 5 4 3 2 1\n",
        "5 4 3 2 1 \n",
        "4 3 2 1 \n",
        "3 2 1\n",
        "2 1 \n",
        "1\n",
        "```"
      ]
    },
    {
      "cell_type": "code",
      "metadata": {
        "id": "zOKon30RQbtb",
        "colab": {
          "base_uri": "https://localhost:8080/"
        },
        "outputId": "f844bafb-3052-484a-d93a-fc5a5c1b009f"
      },
      "source": [
        "for n in range(6,0,-1):\n",
        "  for x in range(n,0,-1):\n",
        "   print(x, end='')\n",
        "  print() \n",
        "\n",
        "\n",
        " \n",
        " \n"
      ],
      "execution_count": 148,
      "outputs": [
        {
          "output_type": "stream",
          "name": "stdout",
          "text": [
            "654321\n",
            "54321\n",
            "4321\n",
            "321\n",
            "21\n",
            "1\n"
          ]
        }
      ]
    },
    {
      "cell_type": "code",
      "metadata": {
        "id": "7PVIa0p5GMbh"
      },
      "source": [
        ""
      ],
      "execution_count": null,
      "outputs": []
    },
    {
      "cell_type": "markdown",
      "metadata": {
        "id": "IQhoIRbzSOTv"
      },
      "source": [
        "# Ejercicio 4\n",
        "\n",
        "Escriba un programa para calcular la suma de la siguiente serie hasta el n-ésimo término. 🧉👒😵🧭🈹🥸\n",
        "\n",
        "$$3+33+333+3333+33333+.....$$\n",
        "\n",
        "Por ejemplo, si n = 5 la serie se convertirá en 3 + 33 + 333 + 3333 + 33333 = 37035 🥸💵🐬⚓♊"
      ]
    },
    {
      "cell_type": "code",
      "metadata": {
        "id": "OwEnwVzvco6N"
      },
      "source": [
        ""
      ],
      "execution_count": null,
      "outputs": []
    },
    {
      "cell_type": "markdown",
      "metadata": {
        "id": "H1B88LgXUJqZ"
      },
      "source": [
        "# Ejercicio 5\n",
        "\n",
        "Crear una función que se llama ```funcion_xy``` que tome como argumento una lista de **numeros enteros** (dada, ver mas abajo) y adicionalmente permita la posibilidad de incorporar parametros adicionales ```*args```y ```**kargs```. \n",
        "\n",
        "```lista=[2,1,3,5,4,7,9,8,6,10]```\n",
        "\n",
        "Se requiere que la funcion tenga las siguientes caracteristicas\n",
        "\n",
        "```*args```\n",
        "\n",
        "1. Ordene la lista de menor a mayor y la devuelva como salida.\n",
        "2. Extraiga y muestre solo los numeros pares\n",
        "3. Calcular la media recortada al 10% de la lista. Para eso pueden utilizar importar la siguiente librería:     \n",
        "```from scipy import stats```\n",
        "Y utilizar la función ```stats.trim_mean(lista, 0.1, axis=0)```\n",
        "\n",
        "```**kargs```\n",
        "\n",
        "1. ```reverse == True``` => Debera invertir la lista \n",
        "2. ```odd == True``` => retorna una lista con los nombres 'pares' e 'impares' para cada posicion\n",
        "3. ```filter == True``` => extraer los valores mayores a 4 y mostrarlos\n",
        "\n",
        "\n",
        "**Nota :** En todos los casos n olviden la importancia del return y traten de aplicar todos los conceptos que hemos visto para resolver de la manera más eficiente posible."
      ]
    },
    {
      "cell_type": "code",
      "metadata": {
        "id": "vRwZTH6kcrie"
      },
      "source": [
        ""
      ],
      "execution_count": null,
      "outputs": []
    }
  ]
}